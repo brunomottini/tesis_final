{
  "nbformat": 4,
  "nbformat_minor": 0,
  "metadata": {
    "accelerator": "GPU",
    "colab": {
      "name": "tests_nfq-rollouts.ipynb",
      "provenance": [],
      "collapsed_sections": [],
      "toc_visible": true
    },
    "kernelspec": {
      "display_name": "Python 3",
      "language": "python",
      "name": "python3"
    },
    "language_info": {
      "codemirror_mode": {
        "name": "ipython",
        "version": 3
      },
      "file_extension": ".py",
      "mimetype": "text/x-python",
      "name": "python",
      "nbconvert_exporter": "python",
      "pygments_lexer": "ipython3",
      "version": "3.8.5"
    },
    "widgets": {
      "application/vnd.jupyter.widget-state+json": {
        "c33484579e8e47bdb3c8db507d0cdd59": {
          "model_module": "@jupyter-widgets/controls",
          "model_name": "HBoxModel",
          "state": {
            "_view_name": "HBoxView",
            "_dom_classes": [],
            "_model_name": "HBoxModel",
            "_view_module": "@jupyter-widgets/controls",
            "_model_module_version": "1.5.0",
            "_view_count": null,
            "_view_module_version": "1.5.0",
            "box_style": "",
            "layout": "IPY_MODEL_622fcaeb0fc343329b4d685c80646b7c",
            "_model_module": "@jupyter-widgets/controls",
            "children": [
              "IPY_MODEL_d7429612f1b044358e8c556d5c5d825c",
              "IPY_MODEL_7e569de63b72480b907374e79ec3fa7c"
            ]
          }
        },
        "622fcaeb0fc343329b4d685c80646b7c": {
          "model_module": "@jupyter-widgets/base",
          "model_name": "LayoutModel",
          "state": {
            "_view_name": "LayoutView",
            "grid_template_rows": null,
            "right": null,
            "justify_content": null,
            "_view_module": "@jupyter-widgets/base",
            "overflow": null,
            "_model_module_version": "1.2.0",
            "_view_count": null,
            "flex_flow": null,
            "width": null,
            "min_width": null,
            "border": null,
            "align_items": null,
            "bottom": null,
            "_model_module": "@jupyter-widgets/base",
            "top": null,
            "grid_column": null,
            "overflow_y": null,
            "overflow_x": null,
            "grid_auto_flow": null,
            "grid_area": null,
            "grid_template_columns": null,
            "flex": null,
            "_model_name": "LayoutModel",
            "justify_items": null,
            "grid_row": null,
            "max_height": null,
            "align_content": null,
            "visibility": null,
            "align_self": null,
            "height": null,
            "min_height": null,
            "padding": null,
            "grid_auto_rows": null,
            "grid_gap": null,
            "max_width": null,
            "order": null,
            "_view_module_version": "1.2.0",
            "grid_template_areas": null,
            "object_position": null,
            "object_fit": null,
            "grid_auto_columns": null,
            "margin": null,
            "display": null,
            "left": null
          }
        },
        "d7429612f1b044358e8c556d5c5d825c": {
          "model_module": "@jupyter-widgets/controls",
          "model_name": "FloatProgressModel",
          "state": {
            "_view_name": "ProgressView",
            "style": "IPY_MODEL_cdabeb4c73c04b019c92359bf0490ac9",
            "_dom_classes": [],
            "description": "100%",
            "_model_name": "FloatProgressModel",
            "bar_style": "success",
            "max": 3000,
            "_view_module": "@jupyter-widgets/controls",
            "_model_module_version": "1.5.0",
            "value": 3000,
            "_view_count": null,
            "_view_module_version": "1.5.0",
            "orientation": "horizontal",
            "min": 0,
            "description_tooltip": null,
            "_model_module": "@jupyter-widgets/controls",
            "layout": "IPY_MODEL_7faa84fba64d4a07accaa51b28767532"
          }
        },
        "7e569de63b72480b907374e79ec3fa7c": {
          "model_module": "@jupyter-widgets/controls",
          "model_name": "HTMLModel",
          "state": {
            "_view_name": "HTMLView",
            "style": "IPY_MODEL_bb247ce1765a4e72a945302b6a251e33",
            "_dom_classes": [],
            "description": "",
            "_model_name": "HTMLModel",
            "placeholder": "​",
            "_view_module": "@jupyter-widgets/controls",
            "_model_module_version": "1.5.0",
            "value": " 3000/3000 [28:09&lt;00:00,  1.78 episodes/s]",
            "_view_count": null,
            "_view_module_version": "1.5.0",
            "description_tooltip": null,
            "_model_module": "@jupyter-widgets/controls",
            "layout": "IPY_MODEL_18ff1e9a0a2540cebee969fd638519cb"
          }
        },
        "cdabeb4c73c04b019c92359bf0490ac9": {
          "model_module": "@jupyter-widgets/controls",
          "model_name": "ProgressStyleModel",
          "state": {
            "_view_name": "StyleView",
            "_model_name": "ProgressStyleModel",
            "description_width": "initial",
            "_view_module": "@jupyter-widgets/base",
            "_model_module_version": "1.5.0",
            "_view_count": null,
            "_view_module_version": "1.2.0",
            "bar_color": null,
            "_model_module": "@jupyter-widgets/controls"
          }
        },
        "7faa84fba64d4a07accaa51b28767532": {
          "model_module": "@jupyter-widgets/base",
          "model_name": "LayoutModel",
          "state": {
            "_view_name": "LayoutView",
            "grid_template_rows": null,
            "right": null,
            "justify_content": null,
            "_view_module": "@jupyter-widgets/base",
            "overflow": null,
            "_model_module_version": "1.2.0",
            "_view_count": null,
            "flex_flow": null,
            "width": null,
            "min_width": null,
            "border": null,
            "align_items": null,
            "bottom": null,
            "_model_module": "@jupyter-widgets/base",
            "top": null,
            "grid_column": null,
            "overflow_y": null,
            "overflow_x": null,
            "grid_auto_flow": null,
            "grid_area": null,
            "grid_template_columns": null,
            "flex": null,
            "_model_name": "LayoutModel",
            "justify_items": null,
            "grid_row": null,
            "max_height": null,
            "align_content": null,
            "visibility": null,
            "align_self": null,
            "height": null,
            "min_height": null,
            "padding": null,
            "grid_auto_rows": null,
            "grid_gap": null,
            "max_width": null,
            "order": null,
            "_view_module_version": "1.2.0",
            "grid_template_areas": null,
            "object_position": null,
            "object_fit": null,
            "grid_auto_columns": null,
            "margin": null,
            "display": null,
            "left": null
          }
        },
        "bb247ce1765a4e72a945302b6a251e33": {
          "model_module": "@jupyter-widgets/controls",
          "model_name": "DescriptionStyleModel",
          "state": {
            "_view_name": "StyleView",
            "_model_name": "DescriptionStyleModel",
            "description_width": "",
            "_view_module": "@jupyter-widgets/base",
            "_model_module_version": "1.5.0",
            "_view_count": null,
            "_view_module_version": "1.2.0",
            "_model_module": "@jupyter-widgets/controls"
          }
        },
        "18ff1e9a0a2540cebee969fd638519cb": {
          "model_module": "@jupyter-widgets/base",
          "model_name": "LayoutModel",
          "state": {
            "_view_name": "LayoutView",
            "grid_template_rows": null,
            "right": null,
            "justify_content": null,
            "_view_module": "@jupyter-widgets/base",
            "overflow": null,
            "_model_module_version": "1.2.0",
            "_view_count": null,
            "flex_flow": null,
            "width": null,
            "min_width": null,
            "border": null,
            "align_items": null,
            "bottom": null,
            "_model_module": "@jupyter-widgets/base",
            "top": null,
            "grid_column": null,
            "overflow_y": null,
            "overflow_x": null,
            "grid_auto_flow": null,
            "grid_area": null,
            "grid_template_columns": null,
            "flex": null,
            "_model_name": "LayoutModel",
            "justify_items": null,
            "grid_row": null,
            "max_height": null,
            "align_content": null,
            "visibility": null,
            "align_self": null,
            "height": null,
            "min_height": null,
            "padding": null,
            "grid_auto_rows": null,
            "grid_gap": null,
            "max_width": null,
            "order": null,
            "_view_module_version": "1.2.0",
            "grid_template_areas": null,
            "object_position": null,
            "object_fit": null,
            "grid_auto_columns": null,
            "margin": null,
            "display": null,
            "left": null
          }
        }
      }
    }
  },
  "cells": [
    {
      "cell_type": "markdown",
      "metadata": {
        "id": "iIQzDIkbxR-w"
      },
      "source": [
        "# NFQ basado en Ventanas de Experiencia\n",
        "### <font color='5E5D5D'> Descripción </font>\n",
        "\n",
        "<i><font color='C9614B'>En esta notebook se encuentra el entrenamiento del agente NFQ basado en ventanas de experiencia o rollout (Experimento 2). Tener en cuenta que la configuración que se presenta aquí, representa únicamente una de las evaluadas.</font></i><br>\n",
        "\n",
        "***"
      ]
    },
    {
      "cell_type": "markdown",
      "metadata": {
        "id": "ZFdyv0J2MRTp"
      },
      "source": [
        "## Configuración"
      ]
    },
    {
      "cell_type": "markdown",
      "metadata": {
        "id": "yoxjfStY1PXv"
      },
      "source": [
        "### Librerías"
      ]
    },
    {
      "cell_type": "code",
      "metadata": {
        "id": "MQWdBJ3u1H_g"
      },
      "source": [
        "# Librerías del sistema que son prerequsito: descomentar estas líneas únicamente si se necesita su instalaciòn\n",
        "! pip install gym pyvirtualdisplay > /dev/null 2>&1\n",
        "! apt-get install -y xvfb python-opengl ffmpeg > /dev/null 2>&1\n",
        "\n",
        "# PyTorch\n",
        "import torch\n",
        "import torch.nn as nn\n",
        "import torch.nn.functional as F\n",
        "import torch.optim as optim\n",
        "from torchvision import transforms\n",
        "\n",
        "# Gym\n",
        "import gym\n",
        "from gym.wrappers import Monitor\n",
        "\n",
        "# Visualización\n",
        "from IPython.display import HTML\n",
        "from pyvirtualdisplay import Display\n",
        "from IPython import display as ipythondisplay\n",
        "from tqdm.notebook import tqdm\n",
        "from PIL import Image\n",
        "\n",
        "# Misceláneos\n",
        "import matplotlib.pyplot as plt\n",
        "import io\n",
        "import glob\n",
        "import base64\n",
        "import math\n",
        "import random\n",
        "import numpy as np\n",
        "from collections import namedtuple\n",
        "import itertools"
      ],
      "execution_count": 1,
      "outputs": []
    },
    {
      "cell_type": "code",
      "metadata": {
        "id": "aLGdBP9xSGfF"
      },
      "source": [
        "# Display\n",
        "display = Display(visible=0, size=(1400, 900))\n",
        "display.start()"
      ],
      "execution_count": null,
      "outputs": []
    },
    {
      "cell_type": "markdown",
      "metadata": {
        "id": "T8GD5PgtSPLQ"
      },
      "source": [
        "## Funciones Auxiliares"
      ]
    },
    {
      "cell_type": "code",
      "metadata": {
        "id": "sHylVD0GScjN"
      },
      "source": [
        "def wrap_env(env):\n",
        "    env = Monitor(env, './video', force=True)\n",
        "    return env"
      ],
      "execution_count": 3,
      "outputs": []
    },
    {
      "cell_type": "code",
      "metadata": {
        "id": "vgzgNzz4Rifu"
      },
      "source": [
        "def show_video():\n",
        "    mp4list = glob.glob('video/*.mp4')\n",
        "    if len(mp4list) > 0:\n",
        "        mp4 = mp4list[0]\n",
        "        video = io.open(mp4, 'r+b').read()\n",
        "        encoded = base64.b64encode(video)\n",
        "        ipythondisplay.display(HTML(data='''<video alt=\"test\" autoplay \n",
        "                    loop controls style=\"height: 400px;\">\n",
        "                    <source src=\"data:video/mp4;base64,{0}\" type=\"video/mp4\" />\n",
        "                 </video>'''.format(encoded.decode('ascii'))))\n",
        "    else: \n",
        "        print(\"Could not find video\")"
      ],
      "execution_count": 4,
      "outputs": []
    },
    {
      "cell_type": "code",
      "metadata": {
        "id": "vXd2SNDQspth"
      },
      "source": [
        "def results_normalizing(number_episodes, rewards, steps):\n",
        "  average_range = 100\n",
        "  episode_ticks = int(number_episodes / average_range)\n",
        "\n",
        "  avg_rewards = np.array(rewards).reshape((episode_ticks, average_range))\n",
        "  avg_rewards = np.mean(avg_rewards, axis=1)\n",
        "\n",
        "  avg_steps = np.array(steps).reshape((episode_ticks, average_range))\n",
        "  avg_steps = np.mean(avg_steps, axis=1)\n",
        "\n",
        "  return avg_rewards, avg_steps, episode_ticks"
      ],
      "execution_count": 5,
      "outputs": []
    },
    {
      "cell_type": "code",
      "metadata": {
        "id": "nKlbejLUtr5C"
      },
      "source": [
        "def plot_results(number_episodes, rewards, steps):\n",
        "  avg_rewards, avg_steps, episode_ticks = results_normalizing(number_episodes, rewards, steps)\n",
        "\n",
        "  plt.plot(range(episode_ticks), avg_rewards)\n",
        "  plt.title(\"Episode Accumulated Reward\")\n",
        "  plt.xlabel(\"Episode Number\")\n",
        "  plt.ylabel(\"Reward\")\n",
        "  plt.show()\n",
        "\n",
        "  plt.plot(range(episode_ticks), avg_steps)\n",
        "  plt.title(\"Steps needed per episode\")\n",
        "  plt.xlabel(\"Episode Number\")\n",
        "  plt.ylabel(\"Number Steps\")\n",
        "  plt.show()"
      ],
      "execution_count": 6,
      "outputs": []
    },
    {
      "cell_type": "markdown",
      "metadata": {
        "id": "SCsHR7fx1cIg"
      },
      "source": [
        "## Rollout\n"
      ]
    },
    {
      "cell_type": "markdown",
      "metadata": {
        "id": "aD--MFU-I3cb"
      },
      "source": [
        "Funciones para obtener muestras de un ambiente o un dataset de forma offline."
      ]
    },
    {
      "cell_type": "code",
      "metadata": {
        "id": "79a_3X34JCE8"
      },
      "source": [
        "Transition = namedtuple('Transition',\n",
        "                        ('state', 'action', 'reward', 'done', 'next_state'))\n",
        "\n",
        "class Rollout:\n",
        "\n",
        "    def __init__(self):\n",
        "        self.memory = []\n",
        "\n",
        "    def add(self, state, action, reward, done, next_state):\n",
        "        newElement= Transition(state, action, reward, done, next_state)\n",
        "        self.memory.append(newElement)\n",
        " \n",
        "    def sample(self, batch_size):\n",
        "      return random.sample(self.memory, batch_size)\n",
        " \n",
        "    def __len__(self):\n",
        "      return len(self.memory)\n",
        "\n",
        "    def get_rollout_from_env(self, env, process_state, device, policy_net=None):\n",
        "      # Rollout\n",
        "      rollout = []\n",
        "\n",
        "      # Rewards\n",
        "      episode_rewards = 0\n",
        "      \n",
        "      # Reinicio el ambiente\n",
        "      state = process_state(env.reset()).to(device)\n",
        "  \n",
        "      done = False\n",
        "      while not done:\n",
        "        if policy_net is None:\n",
        "          # Elijo una acción random\n",
        "          action = np.random.choice(env.action_space.n)\n",
        "        else:\n",
        "          # Elijo una acción greedy en función de la aproximación actual\n",
        "          action = torch.argmax(policy_net(state))\n",
        "          action = action.item()\n",
        "\n",
        "        # Ejecuto la acción sobre el ambiente\n",
        "        next_state, reward, done, _ = env.step(action)\n",
        "        next_state = process_state(next_state).to(device)\n",
        "        \n",
        "        # Agrego la tupla al rollout\n",
        "        rollout.append((state, action, reward, done, next_state))\n",
        "\n",
        "        # Incremento el reward\n",
        "        episode_rewards += reward\n",
        "\n",
        "        # Actualizo el estado\n",
        "        state = next_state\n",
        "      \n",
        "      return rollout, episode_rewards\n",
        "\n",
        "    def increment_rollout(self, rollout):\n",
        "      for tr in rollout:\n",
        "        # Almaceno en la memoria del rollout\n",
        "        self.add(tr[0], tr[1], tr[2], tr[3], tr[4])\n",
        "\n",
        "    def get_dataset_from_env(self, env, process_state, device, num_samples=1000):\n",
        "      # Dataset\n",
        "      dataset = []\n",
        "\n",
        "      while len(dataset) < num_samples:\n",
        "        # Reinicio el ambiente \n",
        "        state = process_state(env.reset()).to(device)\n",
        "    \n",
        "        done = False\n",
        "        while not done:\n",
        "          # Elijo una acción random\n",
        "          action = np.random.choice(env.action_space.n)\n",
        "          \n",
        "          # Ejecuto la acción sobre el ambiente\n",
        "          next_state, reward, done, _ = env.step(action)\n",
        "          next_state = process_state(next_state).to(device)\n",
        "          \n",
        "          # Agrego la tupla al rollout\n",
        "          dataset.append((state, action, reward, done, next_state))\n",
        "\n",
        "          # Actualizo el estado\n",
        "          state = next_state\n",
        "\n",
        "      # Asigno el dataset al rollout\n",
        "      self.increment_rollout(dataset)"
      ],
      "execution_count": 7,
      "outputs": []
    },
    {
      "cell_type": "markdown",
      "metadata": {
        "id": "1awk_obG2Q07"
      },
      "source": [
        "## Red Neuronal (Modelo)"
      ]
    },
    {
      "cell_type": "code",
      "metadata": {
        "id": "pzQXntOu1S4C"
      },
      "source": [
        "class NFQModel(nn.Module):\n",
        "    \n",
        "    def __init__(self, env_inputs, n_actions):\n",
        "        super(NFQModel, self).__init__()\n",
        "        # Hidden layer\n",
        "        self.hidden = nn.Linear(in_features=env_inputs, out_features=200)\n",
        "        # Output layer\n",
        "        self.output = nn.Linear(in_features=200, out_features=n_actions)\n",
        "        \n",
        "    def forward(self, env_input):\n",
        "        result = F.relu(self.hidden(env_input))\n",
        "        output = self.output(result)\n",
        "\n",
        "        return output"
      ],
      "execution_count": 8,
      "outputs": []
    },
    {
      "cell_type": "markdown",
      "metadata": {
        "id": "frJ6QkSk4AaB"
      },
      "source": [
        "## Agente"
      ]
    },
    {
      "cell_type": "code",
      "metadata": {
        "id": "bn8rTNXI1S6B"
      },
      "source": [
        "class NFQAgent:\n",
        "    def __init__(self, gym_env, model, obs_processing_func, batch_size, learning_rate, gamma):\n",
        "        self.device = torch.device('cuda:0' if torch.cuda.is_available() else 'cpu')\n",
        "\n",
        "        # Model\n",
        "        self.policy_net = model.to(self.device)\n",
        "\n",
        "        # Función de loss\n",
        "        self.loss_function = nn.MSELoss().to(self.device)\n",
        "\n",
        "        # Optimizador\n",
        "        self.optimizer = optim.Adam(self.policy_net.parameters(), lr=learning_rate)\n",
        "\n",
        "        # Función de procesamiento de estados\n",
        "        self.state_processing_function = obs_processing_func\n",
        "\n",
        "        # Ambiente\n",
        "        self.env = gym_env\n",
        "\n",
        "        # Hiperparámetros\n",
        "        self.batch_size = batch_size\n",
        "        self.gamma = gamma\n",
        "\n",
        "\n",
        "    def train_from_rollout(self, number_episodes, max_steps):\n",
        "        episode_rewards = []                      # Trazabilidad de los rewards por episodio\n",
        "        episode_steps = np.zeros(number_episodes) # Trazabilidad de steps por episodio\n",
        "        total_steps = 0\n",
        "\n",
        "        # Genero el rollout\n",
        "        rollout = Rollout()\n",
        "\n",
        "        for ep in tqdm(range(number_episodes), unit=' episodes'):\n",
        "\n",
        "            # Genero una ventana de muestras\n",
        "            roll, ep_rew = rollout.get_rollout_from_env(self.env, \n",
        "                                                        self.state_processing_function,\n",
        "                                                        self.device,\n",
        "                                                        self.policy_net)\n",
        "            \n",
        "            # Rewards acumulados\n",
        "            episode_rewards.append(ep_rew)\n",
        "\n",
        "            # Incremento\n",
        "            rollout.increment_rollout(roll)\n",
        "\n",
        "            for s in range(max_steps):\n",
        "\n",
        "                # Actualizar el modelo\n",
        "                self.update_weights_from_rollout(rollout)\n",
        "\n",
        "            # Report on the traning rewards every 100 episodes\n",
        "            if ep % 100 == 0:\n",
        "                print(f\"Episode {ep} - Avg. Reward over the last 100 episodes {np.mean(episode_rewards[-100:])}\")\n",
        "\n",
        "        print(f\"Episode {ep + 1} - Avg. Reward over the last 100 episodes {np.mean(episode_rewards[-100:])}\")\n",
        "\n",
        "        return episode_rewards, episode_steps\n",
        "\n",
        "\n",
        "    def update_weights_from_rollout(self, rollout):\n",
        "        if len(rollout.memory) > self.batch_size:\n",
        "            # Reseteo gradientes\n",
        "            self.optimizer.zero_grad() \n",
        "\n",
        "            # Obtengo mini-batch\n",
        "            batch = rollout.sample(self.batch_size)\n",
        "            states, actions, rewards, dones, next_states = list(zip(*batch))\n",
        "\n",
        "            # Envío los tensores al dispositivo\n",
        "            states = (torch.stack(states)).to(self.device)\n",
        "            actions = torch.tensor(actions).to(self.device)\n",
        "            rewards = torch.tensor(rewards).to(self.device)\n",
        "            dones = torch.tensor(dones).float().to(self.device)\n",
        "            next_states = (torch.stack(next_states)).to(self.device)\n",
        "\n",
        "            # Obtengo el Q value para el mini-batch de acuerdo con la policy_net\n",
        "            q_actual = self.policy_net(states).gather(dim=1, index=actions.view(-1,1)).squeeze()\n",
        "  \n",
        "            # Obtengo max a' Q para los next_states del mini-batch\n",
        "            max_q_next_state = self.policy_net(next_states)\n",
        "            max_q_next_state = max_q_next_state.max(dim=1)[0]*(1 - dones)\n",
        "            max_q_next_state = max_q_next_state.detach()\n",
        "\n",
        "            # Calcular el target\n",
        "            target = rewards + self.gamma * max_q_next_state\n",
        "        \n",
        "            # Computar el costo y actualizar los weights\n",
        "            self.loss_function(q_actual, target).backward()\n",
        "            self.optimizer.step()\n",
        "\n",
        "\n",
        "    def record_test_episode(self, env):\n",
        "        done = False\n",
        "    \n",
        "        # Obtengo estado inicial\n",
        "        state = self.state_processing_function(env.reset()).to(self.device)\n",
        "\n",
        "        while not done:\n",
        "            env.render()\n",
        "\n",
        "            # Selecciono una acción full-greedy\n",
        "            action = self.select_action(state, 0, train=False)\n",
        "\n",
        "            # Ejecuto la acción y proceso el resultado\n",
        "            next_state, reward, done, _ = env.step(action)\n",
        "            next_state = self.state_processing_function(next_state).to(self.device)\n",
        "\n",
        "            if done:\n",
        "                break      \n",
        "\n",
        "            # Actualizo el estado\n",
        "            state = next_state\n",
        "\n",
        "        env.close()\n",
        "        show_video()"
      ],
      "execution_count": 13,
      "outputs": []
    },
    {
      "cell_type": "code",
      "metadata": {
        "id": "NZwnO00fkKK_"
      },
      "source": [
        "def process_state(obs):\n",
        "    return torch.from_numpy(obs).float()"
      ],
      "execution_count": 10,
      "outputs": []
    },
    {
      "cell_type": "markdown",
      "metadata": {
        "id": "ExxcHWDLAn4W"
      },
      "source": [
        "## Tests para el Experimento 2"
      ]
    },
    {
      "cell_type": "markdown",
      "metadata": {
        "id": "A5FpwwG5WcjQ"
      },
      "source": [
        "### Neural Fitted Q-Iteration con Ventanas de Experiencia"
      ]
    },
    {
      "cell_type": "markdown",
      "metadata": {
        "id": "kvoldWRuWtJc"
      },
      "source": [
        "Entrenamiento de agente NFQ con rollouts, utilizando el ambiente ``MountainCar-v0``."
      ]
    },
    {
      "cell_type": "markdown",
      "metadata": {
        "id": "QfwlVnUgp1ov"
      },
      "source": [
        "#### Mountain Car"
      ]
    },
    {
      "cell_type": "code",
      "metadata": {
        "id": "4-hjg2HPvX--"
      },
      "source": [
        "# Global vars\n",
        "GAMMA = 0.99\n",
        "NUM_EPISODES = 3000\n",
        "MAX_STEPS = 200\n",
        "\n",
        "BATCH_SIZE = 32\n",
        "LEARNING_RATE = 0.01"
      ],
      "execution_count": 11,
      "outputs": []
    },
    {
      "cell_type": "code",
      "metadata": {
        "colab": {
          "base_uri": "https://localhost:8080/",
          "height": 593,
          "referenced_widgets": [
            "c33484579e8e47bdb3c8db507d0cdd59",
            "622fcaeb0fc343329b4d685c80646b7c",
            "d7429612f1b044358e8c556d5c5d825c",
            "7e569de63b72480b907374e79ec3fa7c",
            "cdabeb4c73c04b019c92359bf0490ac9",
            "7faa84fba64d4a07accaa51b28767532",
            "bb247ce1765a4e72a945302b6a251e33",
            "18ff1e9a0a2540cebee969fd638519cb"
          ]
        },
        "id": "jm9-rQ7UVL5L",
        "outputId": "7e3bb090-808e-4cd5-a299-207c6cb3c931"
      },
      "source": [
        "# Arrays para los resultados finales\n",
        "rewards_nfq, steps_nfq = [], []\n",
        "\n",
        "# Creo el ambiente\n",
        "env = gym.make(\"MountainCar-v0\")\n",
        "\n",
        "# Seed\n",
        "num_seed = 100\n",
        "env.seed(num_seed)\n",
        "random.seed(num_seed)\n",
        "np.random.seed(num_seed)\n",
        "torch.manual_seed(num_seed)\n",
        "torch.backends.cudnn.deterministic = True\n",
        "\n",
        "# Creo el modelo\n",
        "modelo = NFQModel(2, env.action_space.n)\n",
        "\n",
        "# Creo el agente\n",
        "agent_nfq = NFQAgent(env, modelo, process_state, BATCH_SIZE, LEARNING_RATE, GAMMA)\n",
        "\n",
        "# Entreno al agente\n",
        "rewards, steps_per_episode = agent_nfq.train_from_rollout(NUM_EPISODES, MAX_STEPS)\n",
        "\n",
        "# Resultados\n",
        "rewards_nfq.append(rewards)\n",
        "steps_nfq.append(steps_per_episode)"
      ],
      "execution_count": 17,
      "outputs": [
        {
          "output_type": "display_data",
          "data": {
            "application/vnd.jupyter.widget-view+json": {
              "model_id": "c33484579e8e47bdb3c8db507d0cdd59",
              "version_minor": 0,
              "version_major": 2
            },
            "text/plain": [
              "HBox(children=(FloatProgress(value=0.0, max=3000.0), HTML(value='')))"
            ]
          },
          "metadata": {
            "tags": []
          }
        },
        {
          "output_type": "stream",
          "text": [
            "Episode 0 - Avg. Reward over the last 100 episodes -200.0\n",
            "Episode 100 - Avg. Reward over the last 100 episodes -200.0\n",
            "Episode 200 - Avg. Reward over the last 100 episodes -200.0\n",
            "Episode 300 - Avg. Reward over the last 100 episodes -200.0\n",
            "Episode 400 - Avg. Reward over the last 100 episodes -200.0\n",
            "Episode 500 - Avg. Reward over the last 100 episodes -200.0\n",
            "Episode 600 - Avg. Reward over the last 100 episodes -199.83\n",
            "Episode 700 - Avg. Reward over the last 100 episodes -191.09\n",
            "Episode 800 - Avg. Reward over the last 100 episodes -187.59\n",
            "Episode 900 - Avg. Reward over the last 100 episodes -191.14\n",
            "Episode 1000 - Avg. Reward over the last 100 episodes -185.58\n",
            "Episode 1100 - Avg. Reward over the last 100 episodes -188.18\n",
            "Episode 1200 - Avg. Reward over the last 100 episodes -185.86\n",
            "Episode 1300 - Avg. Reward over the last 100 episodes -188.41\n",
            "Episode 1400 - Avg. Reward over the last 100 episodes -182.28\n",
            "Episode 1500 - Avg. Reward over the last 100 episodes -180.12\n",
            "Episode 1600 - Avg. Reward over the last 100 episodes -186.44\n",
            "Episode 1700 - Avg. Reward over the last 100 episodes -181.34\n",
            "Episode 1800 - Avg. Reward over the last 100 episodes -184.04\n",
            "Episode 1900 - Avg. Reward over the last 100 episodes -182.23\n",
            "Episode 2000 - Avg. Reward over the last 100 episodes -188.01\n",
            "Episode 2100 - Avg. Reward over the last 100 episodes -184.96\n",
            "Episode 2200 - Avg. Reward over the last 100 episodes -186.4\n",
            "Episode 2300 - Avg. Reward over the last 100 episodes -185.78\n",
            "Episode 2400 - Avg. Reward over the last 100 episodes -178.32\n",
            "Episode 2500 - Avg. Reward over the last 100 episodes -183.71\n",
            "Episode 2600 - Avg. Reward over the last 100 episodes -188.1\n",
            "Episode 2700 - Avg. Reward over the last 100 episodes -184.13\n",
            "Episode 2800 - Avg. Reward over the last 100 episodes -178.9\n",
            "Episode 2900 - Avg. Reward over the last 100 episodes -171.79\n",
            "\n",
            "Episode 3000 - Avg. Reward over the last 100 episodes -179.02\n"
          ],
          "name": "stdout"
        }
      ]
    },
    {
      "cell_type": "code",
      "metadata": {
        "colab": {
          "base_uri": "https://localhost:8080/",
          "height": 573
        },
        "id": "G0OGreVGV8be",
        "outputId": "e1725aee-60b9-4946-c5d6-c5bde107b5a4"
      },
      "source": [
        "# Plot \"suavizado\"\n",
        "plot_results(NUM_EPISODES, rewards_nfq, steps_nfq)"
      ],
      "execution_count": 20,
      "outputs": [
        {
          "output_type": "display_data",
          "data": {
            "image/png": "[encoded data removed]",
            "text/plain": [
              "<Figure size 432x288 with 1 Axes>"
            ]
          },
          "metadata": {
            "tags": [],
            "needs_background": "light"
          }
        },
        {
          "output_type": "display_data",
          "data": {
            "image/png": "[encoded data removed]",
            "text/plain": [
              "<Figure size 432x288 with 1 Axes>"
            ]
          },
          "metadata": {
            "tags": [],
            "needs_background": "light"
          }
        }
      ]
    },
    {
      "cell_type": "code",
      "metadata": {
        "id": "ZUPpS9zpe_xk"
      },
      "source": [
        "# Video\n",
        "wrapped_env = wrap_env(gym.make(\"MountainCar-v0\"))\n",
        "\n",
        "agent_nfq.record_test_episode(wrapped_env)"
      ],
      "execution_count": null,
      "outputs": []
    }
  ]
}